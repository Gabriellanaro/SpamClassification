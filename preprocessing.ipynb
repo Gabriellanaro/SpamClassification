{
 "cells": [
  {
   "cell_type": "markdown",
   "id": "fd48471d",
   "metadata": {},
   "source": [
    "- Data Cleaning\n",
    "Remove punctuation, special characters, and digits\n",
    "Convert all text to lowercase\n",
    "- Tokenization\n",
    "Split messages into individual words (tokens)\n",
    "- Stopword Removal\n",
    "Remove common non-informative words (e.g., \"the\", \"and\")\n",
    "- Stemming / Lemmatization\n",
    "