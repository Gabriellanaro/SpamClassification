{
 "cells": [
  {
   "cell_type": "code",
   "execution_count": 2,
   "id": "b7bbeaf9",
   "metadata": {},
   "outputs": [],
   "source": [
    "import pandas as pd\n",
    "import numpy as np\n",
    "\n",
    "import torch\n",
    "from sklearn.model_selection import train_test_split\n",
    "\n",
    "import pyro\n",
    "import pyro.distributions as dist\n",
    "import pyro.infer\n",
    "from pyro.infer import MCMC, NUTS"
   ]
  },
  {
   "cell_type": "code",
   "execution_count": 26,
   "id": "0990f0d7",
   "metadata": {},
   "outputs": [
    {
     "data": {
      "text/html": [
       "<div>\n",
       "<style scoped>\n",
       "    .dataframe tbody tr th:only-of-type {\n",
       "        vertical-align: middle;\n",
       "    }\n",
       "\n",
       "    .dataframe tbody tr th {\n",
       "        vertical-align: top;\n",
       "    }\n",
       "\n",
       "    .dataframe thead th {\n",
       "        text-align: right;\n",
       "    }\n",
       "</style>\n",
       "<table border=\"1\" class=\"dataframe\">\n",
       "  <thead>\n",
       "    <tr style=\"text-align: right;\">\n",
       "      <th></th>\n",
       "      <th>topic_0</th>\n",
       "      <th>topic_1</th>\n",
       "      <th>topic_2</th>\n",
       "      <th>topic_3</th>\n",
       "      <th>topic_4</th>\n",
       "      <th>topic_5</th>\n",
       "      <th>topic_6</th>\n",
       "      <th>topic_7</th>\n",
       "      <th>topic_8</th>\n",
       "      <th>topic_9</th>\n",
       "      <th>...</th>\n",
       "      <th>topic_45</th>\n",
       "      <th>topic_46</th>\n",
       "      <th>topic_47</th>\n",
       "      <th>topic_48</th>\n",
       "      <th>topic_49</th>\n",
       "      <th>topic_50</th>\n",
       "      <th>topic_51</th>\n",
       "      <th>topic_52</th>\n",
       "      <th>topic_53</th>\n",
       "      <th>topic_54</th>\n",
       "    </tr>\n",
       "  </thead>\n",
       "  <tbody>\n",
       "    <tr>\n",
       "      <th>0</th>\n",
       "      <td>0.349177</td>\n",
       "      <td>0.000026</td>\n",
       "      <td>0.422450</td>\n",
       "      <td>0.000230</td>\n",
       "      <td>0.000213</td>\n",
       "      <td>0.073040</td>\n",
       "      <td>0.000137</td>\n",
       "      <td>0.000019</td>\n",
       "      <td>0.001023</td>\n",
       "      <td>0.000069</td>\n",
       "      <td>...</td>\n",
       "      <td>0.000081</td>\n",
       "      <td>0.000138</td>\n",
       "      <td>0.000019</td>\n",
       "      <td>0.000137</td>\n",
       "      <td>0.000082</td>\n",
       "      <td>0.000138</td>\n",
       "      <td>0.000019</td>\n",
       "      <td>0.000132</td>\n",
       "      <td>0.000080</td>\n",
       "      <td>0.000138</td>\n",
       "    </tr>\n",
       "    <tr>\n",
       "      <th>1</th>\n",
       "      <td>0.260056</td>\n",
       "      <td>0.000414</td>\n",
       "      <td>0.000029</td>\n",
       "      <td>0.289874</td>\n",
       "      <td>0.000136</td>\n",
       "      <td>0.000088</td>\n",
       "      <td>0.000029</td>\n",
       "      <td>0.000046</td>\n",
       "      <td>0.000167</td>\n",
       "      <td>0.000088</td>\n",
       "      <td>...</td>\n",
       "      <td>0.000090</td>\n",
       "      <td>0.000029</td>\n",
       "      <td>0.000047</td>\n",
       "      <td>0.000407</td>\n",
       "      <td>0.000090</td>\n",
       "      <td>0.000029</td>\n",
       "      <td>0.000047</td>\n",
       "      <td>0.000408</td>\n",
       "      <td>0.000090</td>\n",
       "      <td>0.000029</td>\n",
       "    </tr>\n",
       "    <tr>\n",
       "      <th>2</th>\n",
       "      <td>0.000018</td>\n",
       "      <td>0.615313</td>\n",
       "      <td>0.000016</td>\n",
       "      <td>0.000036</td>\n",
       "      <td>0.000177</td>\n",
       "      <td>0.242171</td>\n",
       "      <td>0.000015</td>\n",
       "      <td>0.000036</td>\n",
       "      <td>0.000191</td>\n",
       "      <td>0.135602</td>\n",
       "      <td>...</td>\n",
       "      <td>0.000169</td>\n",
       "      <td>0.000015</td>\n",
       "      <td>0.000036</td>\n",
       "      <td>0.000178</td>\n",
       "      <td>0.000115</td>\n",
       "      <td>0.000015</td>\n",
       "      <td>0.000036</td>\n",
       "      <td>0.000178</td>\n",
       "      <td>0.000113</td>\n",
       "      <td>0.000015</td>\n",
       "    </tr>\n",
       "    <tr>\n",
       "      <th>3</th>\n",
       "      <td>0.008549</td>\n",
       "      <td>0.000010</td>\n",
       "      <td>0.000003</td>\n",
       "      <td>0.177424</td>\n",
       "      <td>0.000101</td>\n",
       "      <td>0.000024</td>\n",
       "      <td>0.000003</td>\n",
       "      <td>0.000007</td>\n",
       "      <td>0.000103</td>\n",
       "      <td>0.000024</td>\n",
       "      <td>...</td>\n",
       "      <td>0.000024</td>\n",
       "      <td>0.000003</td>\n",
       "      <td>0.000007</td>\n",
       "      <td>0.000142</td>\n",
       "      <td>0.000024</td>\n",
       "      <td>0.000003</td>\n",
       "      <td>0.000007</td>\n",
       "      <td>0.000142</td>\n",
       "      <td>0.000024</td>\n",
       "      <td>0.000003</td>\n",
       "    </tr>\n",
       "    <tr>\n",
       "      <th>4</th>\n",
       "      <td>0.000020</td>\n",
       "      <td>0.000045</td>\n",
       "      <td>0.000013</td>\n",
       "      <td>0.000013</td>\n",
       "      <td>0.171834</td>\n",
       "      <td>0.000288</td>\n",
       "      <td>0.000008</td>\n",
       "      <td>0.000013</td>\n",
       "      <td>0.000302</td>\n",
       "      <td>0.000067</td>\n",
       "      <td>...</td>\n",
       "      <td>0.000074</td>\n",
       "      <td>0.000008</td>\n",
       "      <td>0.000015</td>\n",
       "      <td>0.000915</td>\n",
       "      <td>0.000075</td>\n",
       "      <td>0.000008</td>\n",
       "      <td>0.000014</td>\n",
       "      <td>0.000911</td>\n",
       "      <td>0.000074</td>\n",
       "      <td>0.000008</td>\n",
       "    </tr>\n",
       "  </tbody>\n",
       "</table>\n",
       "<p>5 rows × 55 columns</p>\n",
       "</div>"
      ],
      "text/plain": [
       "    topic_0   topic_1   topic_2   topic_3   topic_4   topic_5   topic_6  \\\n",
       "0  0.349177  0.000026  0.422450  0.000230  0.000213  0.073040  0.000137   \n",
       "1  0.260056  0.000414  0.000029  0.289874  0.000136  0.000088  0.000029   \n",
       "2  0.000018  0.615313  0.000016  0.000036  0.000177  0.242171  0.000015   \n",
       "3  0.008549  0.000010  0.000003  0.177424  0.000101  0.000024  0.000003   \n",
       "4  0.000020  0.000045  0.000013  0.000013  0.171834  0.000288  0.000008   \n",
       "\n",
       "    topic_7   topic_8   topic_9  ...  topic_45  topic_46  topic_47  topic_48  \\\n",
       "0  0.000019  0.001023  0.000069  ...  0.000081  0.000138  0.000019  0.000137   \n",
       "1  0.000046  0.000167  0.000088  ...  0.000090  0.000029  0.000047  0.000407   \n",
       "2  0.000036  0.000191  0.135602  ...  0.000169  0.000015  0.000036  0.000178   \n",
       "3  0.000007  0.000103  0.000024  ...  0.000024  0.000003  0.000007  0.000142   \n",
       "4  0.000013  0.000302  0.000067  ...  0.000074  0.000008  0.000015  0.000915   \n",
       "\n",
       "   topic_49  topic_50  topic_51  topic_52  topic_53  topic_54  \n",
       "0  0.000082  0.000138  0.000019  0.000132  0.000080  0.000138  \n",
       "1  0.000090  0.000029  0.000047  0.000408  0.000090  0.000029  \n",
       "2  0.000115  0.000015  0.000036  0.000178  0.000113  0.000015  \n",
       "3  0.000024  0.000003  0.000007  0.000142  0.000024  0.000003  \n",
       "4  0.000075  0.000008  0.000014  0.000911  0.000074  0.000008  \n",
       "\n",
       "[5 rows x 55 columns]"
      ]
     },
     "execution_count": 26,
     "metadata": {},
     "output_type": "execute_result"
    }
   ],
   "source": [
    "df_k55 = pd.read_csv(\n",
    "    'doc_topics_K55.csv'\n",
    ")\n",
    "df_k60 = pd.read_csv(\n",
    "    'doc_topics_K60.csv'\n",
    ")\n",
    "df_k55.head()\n",
    "#df_k60.head()"
   ]
  },
  {
   "cell_type": "code",
   "execution_count": 27,
   "id": "db92fb4d",
   "metadata": {},
   "outputs": [
    {
     "data": {
      "text/html": [
       "<div>\n",
       "<style scoped>\n",
       "    .dataframe tbody tr th:only-of-type {\n",
       "        vertical-align: middle;\n",
       "    }\n",
       "\n",
       "    .dataframe tbody tr th {\n",
       "        vertical-align: top;\n",
       "    }\n",
       "\n",
       "    .dataframe thead th {\n",
       "        text-align: right;\n",
       "    }\n",
       "</style>\n",
       "<table border=\"1\" class=\"dataframe\">\n",
       "  <thead>\n",
       "    <tr style=\"text-align: right;\">\n",
       "      <th></th>\n",
       "      <th>label</th>\n",
       "      <th>message</th>\n",
       "    </tr>\n",
       "  </thead>\n",
       "  <tbody>\n",
       "    <tr>\n",
       "      <th>0</th>\n",
       "      <td>0</td>\n",
       "      <td>Go until jurong point, crazy.. Available only ...</td>\n",
       "    </tr>\n",
       "    <tr>\n",
       "      <th>1</th>\n",
       "      <td>0</td>\n",
       "      <td>Ok lar... Joking wif u oni...</td>\n",
       "    </tr>\n",
       "    <tr>\n",
       "      <th>2</th>\n",
       "      <td>1</td>\n",
       "      <td>Free entry in 2 a wkly comp to win FA Cup fina...</td>\n",
       "    </tr>\n",
       "    <tr>\n",
       "      <th>3</th>\n",
       "      <td>0</td>\n",
       "      <td>U dun say so early hor... U c already then say...</td>\n",
       "    </tr>\n",
       "    <tr>\n",
       "      <th>4</th>\n",
       "      <td>0</td>\n",
       "      <td>Nah I don't think he goes to usf, he lives aro...</td>\n",
       "    </tr>\n",
       "  </tbody>\n",
       "</table>\n",
       "</div>"
      ],
      "text/plain": [
       "   label                                            message\n",
       "0      0  Go until jurong point, crazy.. Available only ...\n",
       "1      0                      Ok lar... Joking wif u oni...\n",
       "2      1  Free entry in 2 a wkly comp to win FA Cup fina...\n",
       "3      0  U dun say so early hor... U c already then say...\n",
       "4      0  Nah I don't think he goes to usf, he lives aro..."
      ]
     },
     "execution_count": 27,
     "metadata": {},
     "output_type": "execute_result"
    }
   ],
   "source": [
    "df_sms = pd.read_csv(\n",
    "    \"SMSSpamCollection\", sep=\"\\t\", header=None, names=[\"label\", \"message\"]\n",
    ")\n",
    "#df_sms.head()\n",
    "df_sms[\"label\"] = df_sms[\"label\"].map({\"ham\": 0, \"spam\": 1})\n",
    "df_sms.head()"
   ]
  },
  {
   "cell_type": "code",
   "execution_count": 28,
   "id": "23f77220",
   "metadata": {},
   "outputs": [
    {
     "data": {
      "text/html": [
       "<div>\n",
       "<style scoped>\n",
       "    .dataframe tbody tr th:only-of-type {\n",
       "        vertical-align: middle;\n",
       "    }\n",
       "\n",
       "    .dataframe tbody tr th {\n",
       "        vertical-align: top;\n",
       "    }\n",
       "\n",
       "    .dataframe thead th {\n",
       "        text-align: right;\n",
       "    }\n",
       "</style>\n",
       "<table border=\"1\" class=\"dataframe\">\n",
       "  <thead>\n",
       "    <tr style=\"text-align: right;\">\n",
       "      <th></th>\n",
       "      <th>topic_0</th>\n",
       "      <th>topic_1</th>\n",
       "      <th>topic_2</th>\n",
       "      <th>topic_3</th>\n",
       "      <th>topic_4</th>\n",
       "      <th>topic_5</th>\n",
       "      <th>topic_6</th>\n",
       "      <th>topic_7</th>\n",
       "      <th>topic_8</th>\n",
       "      <th>topic_9</th>\n",
       "      <th>...</th>\n",
       "      <th>topic_46</th>\n",
       "      <th>topic_47</th>\n",
       "      <th>topic_48</th>\n",
       "      <th>topic_49</th>\n",
       "      <th>topic_50</th>\n",
       "      <th>topic_51</th>\n",
       "      <th>topic_52</th>\n",
       "      <th>topic_53</th>\n",
       "      <th>topic_54</th>\n",
       "      <th>label</th>\n",
       "    </tr>\n",
       "  </thead>\n",
       "  <tbody>\n",
       "    <tr>\n",
       "      <th>0</th>\n",
       "      <td>0.349177</td>\n",
       "      <td>0.000026</td>\n",
       "      <td>0.422450</td>\n",
       "      <td>0.000230</td>\n",
       "      <td>0.000213</td>\n",
       "      <td>0.073040</td>\n",
       "      <td>0.000137</td>\n",
       "      <td>0.000019</td>\n",
       "      <td>0.001023</td>\n",
       "      <td>0.000069</td>\n",
       "      <td>...</td>\n",
       "      <td>0.000138</td>\n",
       "      <td>0.000019</td>\n",
       "      <td>0.000137</td>\n",
       "      <td>0.000082</td>\n",
       "      <td>0.000138</td>\n",
       "      <td>0.000019</td>\n",
       "      <td>0.000132</td>\n",
       "      <td>0.000080</td>\n",
       "      <td>0.000138</td>\n",
       "      <td>0</td>\n",
       "    </tr>\n",
       "    <tr>\n",
       "      <th>1</th>\n",
       "      <td>0.260056</td>\n",
       "      <td>0.000414</td>\n",
       "      <td>0.000029</td>\n",
       "      <td>0.289874</td>\n",
       "      <td>0.000136</td>\n",
       "      <td>0.000088</td>\n",
       "      <td>0.000029</td>\n",
       "      <td>0.000046</td>\n",
       "      <td>0.000167</td>\n",
       "      <td>0.000088</td>\n",
       "      <td>...</td>\n",
       "      <td>0.000029</td>\n",
       "      <td>0.000047</td>\n",
       "      <td>0.000407</td>\n",
       "      <td>0.000090</td>\n",
       "      <td>0.000029</td>\n",
       "      <td>0.000047</td>\n",
       "      <td>0.000408</td>\n",
       "      <td>0.000090</td>\n",
       "      <td>0.000029</td>\n",
       "      <td>0</td>\n",
       "    </tr>\n",
       "    <tr>\n",
       "      <th>2</th>\n",
       "      <td>0.000018</td>\n",
       "      <td>0.615313</td>\n",
       "      <td>0.000016</td>\n",
       "      <td>0.000036</td>\n",
       "      <td>0.000177</td>\n",
       "      <td>0.242171</td>\n",
       "      <td>0.000015</td>\n",
       "      <td>0.000036</td>\n",
       "      <td>0.000191</td>\n",
       "      <td>0.135602</td>\n",
       "      <td>...</td>\n",
       "      <td>0.000015</td>\n",
       "      <td>0.000036</td>\n",
       "      <td>0.000178</td>\n",
       "      <td>0.000115</td>\n",
       "      <td>0.000015</td>\n",
       "      <td>0.000036</td>\n",
       "      <td>0.000178</td>\n",
       "      <td>0.000113</td>\n",
       "      <td>0.000015</td>\n",
       "      <td>1</td>\n",
       "    </tr>\n",
       "    <tr>\n",
       "      <th>3</th>\n",
       "      <td>0.008549</td>\n",
       "      <td>0.000010</td>\n",
       "      <td>0.000003</td>\n",
       "      <td>0.177424</td>\n",
       "      <td>0.000101</td>\n",
       "      <td>0.000024</td>\n",
       "      <td>0.000003</td>\n",
       "      <td>0.000007</td>\n",
       "      <td>0.000103</td>\n",
       "      <td>0.000024</td>\n",
       "      <td>...</td>\n",
       "      <td>0.000003</td>\n",
       "      <td>0.000007</td>\n",
       "      <td>0.000142</td>\n",
       "      <td>0.000024</td>\n",
       "      <td>0.000003</td>\n",
       "      <td>0.000007</td>\n",
       "      <td>0.000142</td>\n",
       "      <td>0.000024</td>\n",
       "      <td>0.000003</td>\n",
       "      <td>0</td>\n",
       "    </tr>\n",
       "    <tr>\n",
       "      <th>4</th>\n",
       "      <td>0.000020</td>\n",
       "      <td>0.000045</td>\n",
       "      <td>0.000013</td>\n",
       "      <td>0.000013</td>\n",
       "      <td>0.171834</td>\n",
       "      <td>0.000288</td>\n",
       "      <td>0.000008</td>\n",
       "      <td>0.000013</td>\n",
       "      <td>0.000302</td>\n",
       "      <td>0.000067</td>\n",
       "      <td>...</td>\n",
       "      <td>0.000008</td>\n",
       "      <td>0.000015</td>\n",
       "      <td>0.000915</td>\n",
       "      <td>0.000075</td>\n",
       "      <td>0.000008</td>\n",
       "      <td>0.000014</td>\n",
       "      <td>0.000911</td>\n",
       "      <td>0.000074</td>\n",
       "      <td>0.000008</td>\n",
       "      <td>0</td>\n",
       "    </tr>\n",
       "  </tbody>\n",
       "</table>\n",
       "<p>5 rows × 56 columns</p>\n",
       "</div>"
      ],
      "text/plain": [
       "    topic_0   topic_1   topic_2   topic_3   topic_4   topic_5   topic_6  \\\n",
       "0  0.349177  0.000026  0.422450  0.000230  0.000213  0.073040  0.000137   \n",
       "1  0.260056  0.000414  0.000029  0.289874  0.000136  0.000088  0.000029   \n",
       "2  0.000018  0.615313  0.000016  0.000036  0.000177  0.242171  0.000015   \n",
       "3  0.008549  0.000010  0.000003  0.177424  0.000101  0.000024  0.000003   \n",
       "4  0.000020  0.000045  0.000013  0.000013  0.171834  0.000288  0.000008   \n",
       "\n",
       "    topic_7   topic_8   topic_9  ...  topic_46  topic_47  topic_48  topic_49  \\\n",
       "0  0.000019  0.001023  0.000069  ...  0.000138  0.000019  0.000137  0.000082   \n",
       "1  0.000046  0.000167  0.000088  ...  0.000029  0.000047  0.000407  0.000090   \n",
       "2  0.000036  0.000191  0.135602  ...  0.000015  0.000036  0.000178  0.000115   \n",
       "3  0.000007  0.000103  0.000024  ...  0.000003  0.000007  0.000142  0.000024   \n",
       "4  0.000013  0.000302  0.000067  ...  0.000008  0.000015  0.000915  0.000075   \n",
       "\n",
       "   topic_50  topic_51  topic_52  topic_53  topic_54  label  \n",
       "0  0.000138  0.000019  0.000132  0.000080  0.000138      0  \n",
       "1  0.000029  0.000047  0.000408  0.000090  0.000029      0  \n",
       "2  0.000015  0.000036  0.000178  0.000113  0.000015      1  \n",
       "3  0.000003  0.000007  0.000142  0.000024  0.000003      0  \n",
       "4  0.000008  0.000014  0.000911  0.000074  0.000008      0  \n",
       "\n",
       "[5 rows x 56 columns]"
      ]
     },
     "execution_count": 28,
     "metadata": {},
     "output_type": "execute_result"
    }
   ],
   "source": [
    "df_k55[\"label\"] = df_sms[\"label\"]\n",
    "df_k55.head()"
   ]
  },
  {
   "cell_type": "code",
   "execution_count": 29,
   "id": "d9b2d526",
   "metadata": {},
   "outputs": [],
   "source": [
    "# train and test split\n",
    "X = df_k55.drop(columns=[\"label\"]).values.astype(\"float32\")\n",
    "y = df_k55[\"label\"].values.astype(\"float32\")\n",
    "\n",
    "X_train, X_test, y_train, y_test = train_test_split(X, y, test_size=0.2, stratify=y, random_state=42)\n",
    "\n",
    "# convert to PyTorch tensors\n",
    "X_train = torch.tensor(X_train)\n",
    "X_test = torch.tensor(X_test)\n",
    "y_train = torch.tensor(y_train)\n",
    "y_test = torch.tensor(y_test)"
   ]
  },
  {
   "cell_type": "code",
   "execution_count": 30,
   "id": "8a7ca956",
   "metadata": {},
   "outputs": [],
   "source": [
    "def model(X, y=None):\n",
    "    num_features = X.shape[1]\n",
    "\n",
    "    # Priors for weights and bias\n",
    "    beta = pyro.sample(\"beta\", dist.Normal(torch.zeros(num_features), torch.ones(num_features)))\n",
    "    bias = pyro.sample(\"bias\", dist.Normal(0., 1.))\n",
    "\n",
    "    with pyro.plate(\"data\", X.shape[0]):\n",
    "        logits = (X @ beta) + bias\n",
    "        pyro.sample(\"obs\", dist.Bernoulli(logits=logits), obs=y)"
   ]
  },
  {
   "cell_type": "code",
   "execution_count": 31,
   "id": "add64951",
   "metadata": {},
   "outputs": [
    {
     "name": "stderr",
     "output_type": "stream",
     "text": [
      "Sample: 100%|██████████| 2200/2200 [01:03, 34.80it/s, step size=3.60e-01, acc. prob=0.910]\n"
     ]
    }
   ],
   "source": [
    "# MCMC inference\n",
    "nuts_kernel = NUTS(model)\n",
    "mcmc = MCMC(nuts_kernel, num_samples=2000, warmup_steps=200, num_chains=1)\n",
    "mcmc.run(X_train, y_train)"
   ]
  },
  {
   "cell_type": "code",
   "execution_count": 32,
   "id": "8c2157fc",
   "metadata": {},
   "outputs": [
    {
     "name": "stdout",
     "output_type": "stream",
     "text": [
      "Test Accuracy: 0.926457405090332\n"
     ]
    }
   ],
   "source": [
    "# prediction using posterior mean\n",
    "samples = mcmc.get_samples()\n",
    "beta_hat = samples[\"beta\"].mean(0)\n",
    "bias_hat = samples[\"bias\"].mean(0)\n",
    "\n",
    "# Predict on test set\n",
    "logits = (X_test @ beta_hat) + bias_hat\n",
    "y_pred = torch.sigmoid(logits) > 0.5\n",
    "\n",
    "# Accuracy\n",
    "accuracy = (y_pred.int() == y_test).float().mean()\n",
    "print(\"Test Accuracy:\", accuracy.item())"
   ]
  },
  {
   "cell_type": "code",
   "execution_count": 33,
   "id": "3acc9e69",
   "metadata": {},
   "outputs": [
    {
     "name": "stdout",
     "output_type": "stream",
     "text": [
      "{'beta': OrderedDict([('n_eff', tensor([2934.7092, 1430.8804, 2822.8889, 4210.8506, 3318.2952, 2515.4717,\n",
      "        3185.7637, 1982.7726, 4147.3848, 2300.2471, 4027.8564, 2868.5396,\n",
      "        2778.0872, 5117.0029, 4659.6333, 3665.9197, 4204.5186, 2322.3413,\n",
      "        3901.9795, 3740.9280, 2340.7908, 2802.1943, 3518.2178, 2867.4001,\n",
      "        4820.7300, 3999.6289, 6412.1533, 4989.5044, 2450.9888, 2845.3772,\n",
      "        3530.9939, 5272.4297, 4766.0117, 3075.8269, 4599.2671, 6195.8120,\n",
      "        5205.8262, 4015.2668, 6669.1582, 4046.9390, 4285.4312, 3570.0513,\n",
      "        4087.5688, 4980.4902, 1626.1288, 3855.7979, 2917.7710, 5562.7944,\n",
      "        4510.7139, 4217.5063, 5298.2705, 5210.3096, 5603.1499, 2514.2532,\n",
      "        6388.7632])), ('r_hat', tensor([1.0001, 0.9999, 0.9995, 0.9998, 0.9997, 0.9995, 0.9996, 0.9995, 1.0004,\n",
      "        0.9996, 1.0002, 0.9997, 0.9996, 0.9995, 0.9995, 0.9995, 0.9996, 0.9995,\n",
      "        0.9996, 1.0009, 0.9996, 0.9995, 0.9998, 0.9995, 0.9995, 0.9995, 0.9995,\n",
      "        0.9995, 0.9995, 1.0000, 0.9995, 0.9998, 0.9995, 0.9995, 0.9996, 0.9997,\n",
      "        0.9999, 0.9999, 0.9995, 0.9999, 0.9995, 0.9995, 0.9995, 1.0001, 0.9995,\n",
      "        0.9998, 0.9995, 0.9996, 0.9995, 0.9999, 0.9996, 0.9995, 0.9996, 1.0001,\n",
      "        0.9999]))]), 'bias': OrderedDict([('n_eff', tensor(833.2252)), ('r_hat', tensor(0.9995))]), 'divergences': {'chain 0': []}, 'acceptance rate': {'chain 0': 1.0}}\n"
     ]
    }
   ],
   "source": [
    "print(mcmc.diagnostics())\n"
   ]
  },
  {
   "cell_type": "markdown",
   "id": "a7aee666",
   "metadata": {},
   "source": [
    "# try with the bow matrix "
   ]
  },
  {
   "cell_type": "code",
   "execution_count": 3,
   "id": "f862cdad",
   "metadata": {},
   "outputs": [],
   "source": [
    "df_k55 = pd.read_csv(\n",
    "    'doc_topics_K55.csv'\n",
    ")\n",
    "\n",
    "df_sms = pd.read_csv(\n",
    "    \"SMSSpamCollection\", sep=\"\\t\", header=None, names=[\"label\", \"message\"]\n",
    ")\n",
    "#df_sms.head()\n",
    "df_sms[\"label\"] = df_sms[\"label\"].map({\"ham\": 0, \"spam\": 1})\n",
    "\n",
    "\n",
    "df_k55[\"label\"] = df_sms[\"label\"]"
   ]
  },
  {
   "cell_type": "code",
   "execution_count": 4,
   "id": "f74c1c12",
   "metadata": {},
   "outputs": [
    {
     "name": "stdout",
     "output_type": "stream",
     "text": [
      "[[0. 0. 0. ... 0. 0. 0.]\n",
      " [0. 0. 0. ... 0. 0. 0.]\n",
      " [0. 0. 0. ... 0. 0. 0.]\n",
      " ...\n",
      " [0. 0. 0. ... 0. 0. 0.]\n",
      " [0. 0. 0. ... 0. 0. 0.]\n",
      " [0. 0. 0. ... 0. 0. 0.]]\n"
     ]
    }
   ],
   "source": [
    "bow_array = np.load(\"BoW_X_Array.npz\")[\"arr_0\"]\n",
    "print(bow_array)"
   ]
  },
  {
   "cell_type": "code",
   "execution_count": 5,
   "id": "b31d933c",
   "metadata": {},
   "outputs": [
    {
     "name": "stdout",
     "output_type": "stream",
     "text": [
      "Topics shape: (5572, 55)\n",
      "BoW shape: (5572, 7099)\n",
      "total shape:  (5572, 7154)\n",
      "labels shape (5572,)\n"
     ]
    }
   ],
   "source": [
    "# Drop the label column from df_k55 to get the topic features\n",
    "X_topics = df_k55.drop(\"label\", axis=1).values.astype(\"float32\")\n",
    "\n",
    "# Check shapes to be sure\n",
    "print(\"Topics shape:\", X_topics.shape)\n",
    "print(\"BoW shape:\", bow_array.shape)\n",
    "\n",
    "# Horizontally concatenate the two matrices\n",
    "X = np.hstack([X_topics, bow_array])\n",
    "print('total shape: ', X.shape)\n",
    "\n",
    "# Extract the labels\n",
    "y = df_k55[\"label\"].values.astype(\"float32\")\n",
    "print('labels shape',y.shape)"
   ]
  },
  {
   "cell_type": "code",
   "execution_count": 6,
   "id": "850b84ca",
   "metadata": {},
   "outputs": [],
   "source": [
    "X_train, X_test, y_train, y_test = train_test_split(X, y, test_size=0.2, stratify=y, random_state=42)\n",
    "\n",
    "# convert to PyTorch tensors\n",
    "X_train = torch.tensor(X_train)\n",
    "X_test = torch.tensor(X_test)\n",
    "y_train = torch.tensor(y_train)\n",
    "y_test = torch.tensor(y_test)"
   ]
  },
  {
   "cell_type": "code",
   "execution_count": 7,
   "id": "7d704d00",
   "metadata": {},
   "outputs": [],
   "source": [
    "def model(X, y=None):\n",
    "    num_features = X.shape[1]\n",
    "\n",
    "    # Priors for weights and bias\n",
    "    beta = pyro.sample(\"beta\", dist.Normal(torch.zeros(num_features), torch.ones(num_features)))\n",
    "    bias = pyro.sample(\"bias\", dist.Normal(0., 1.))\n",
    "\n",
    "    with pyro.plate(\"data\", X.shape[0]):\n",
    "        logits = (X @ beta) + bias\n",
    "        pyro.sample(\"obs\", dist.Bernoulli(logits=logits), obs=y)"
   ]
  },
  {
   "cell_type": "code",
   "execution_count": 8,
   "id": "534477e6",
   "metadata": {},
   "outputs": [
    {
     "name": "stderr",
     "output_type": "stream",
     "text": [
      "Sample: 100%|██████████| 1100/1100 [05:26,  3.37it/s, step size=1.58e-01, acc. prob=0.836]\n"
     ]
    }
   ],
   "source": [
    "# MCMC inference\n",
    "nuts_kernel = NUTS(model)\n",
    "mcmc = MCMC(nuts_kernel, num_samples=1000, warmup_steps=100, num_chains=1)\n",
    "mcmc.run(X_train, y_train)"
   ]
  },
  {
   "cell_type": "code",
   "execution_count": 9,
   "id": "bd3fa1dd",
   "metadata": {},
   "outputs": [
    {
     "name": "stdout",
     "output_type": "stream",
     "text": [
      "Test Accuracy: 0.9856502413749695\n"
     ]
    }
   ],
   "source": [
    "# prediction using posterior mean\n",
    "samples = mcmc.get_samples()\n",
    "beta_hat = samples[\"beta\"].mean(0)\n",
    "bias_hat = samples[\"bias\"].mean(0)\n",
    "\n",
    "# Predict on test set\n",
    "logits = (X_test @ beta_hat) + bias_hat\n",
    "y_pred = torch.sigmoid(logits) > 0.5\n",
    "\n",
    "# Accuracy\n",
    "accuracy = (y_pred.int() == y_test).float().mean()\n",
    "print(\"Test Accuracy:\", accuracy.item())"
   ]
  },
  {
   "cell_type": "code",
   "execution_count": 10,
   "id": "f35d4f5c",
   "metadata": {},
   "outputs": [
    {
     "name": "stdout",
     "output_type": "stream",
     "text": [
      "{'beta': OrderedDict([('n_eff', tensor([1588.4603, 1364.0521, 1244.2787,  ..., 2388.4956, 1941.5050,\n",
      "        2733.9429])), ('r_hat', tensor([0.9991, 1.0009, 0.9998,  ..., 1.0008, 0.9990, 0.9992]))]), 'bias': OrderedDict([('n_eff', tensor(998.0464)), ('r_hat', tensor(1.0022))]), 'divergences': {'chain 0': []}, 'acceptance rate': {'chain 0': 1.0}}\n"
     ]
    }
   ],
   "source": [
    "print(mcmc.diagnostics())"
   ]
  },
  {
   "cell_type": "markdown",
   "id": "e99e82dc",
   "metadata": {},
   "source": [
    "# explanability "
   ]
  },
  {
   "cell_type": "code",
   "execution_count": 11,
   "id": "361d0701",
   "metadata": {},
   "outputs": [],
   "source": [
    "# Suppose:\n",
    "# - X_topics.shape[1] = 55\n",
    "# - bow_array.shape[1] = 500 (or whatever number of BoW features)\n",
    "\n",
    "topic_weights = beta_hat[:55].numpy()\n",
    "bow_weights = beta_hat[55:].numpy()\n"
   ]
  },
  {
   "cell_type": "code",
   "execution_count": 14,
   "id": "b81cfba4",
   "metadata": {},
   "outputs": [],
   "source": [
    "from sklearn.feature_extraction.text import CountVectorizer\n",
    "\n",
    "from sklearn.feature_extraction.text import CountVectorizer\n",
    "\n",
    "# Adjust max_features to match what you used earlier (e.g. 500)\n",
    "vectorizer = CountVectorizer(max_features=bow_array.shape[1])\n",
    "\n",
    "# Fit it to the raw messages\n",
    "vectorizer.fit(df_sms[\"message\"])  # assumes your original messages are in df_sms[\"message\"]\n",
    "\n",
    "\n",
    "bow_feature_names = vectorizer.get_feature_names_out()\n"
   ]
  },
  {
   "cell_type": "code",
   "execution_count": 15,
   "id": "ff4abbc3",
   "metadata": {},
   "outputs": [
    {
     "name": "stdout",
     "output_type": "stream",
     "text": [
      "Top BoW terms indicating SPAM:\n",
      "             term    weight\n",
      "6390      typical  3.117990\n",
      "1070          arm  2.346373\n",
      "5781  subscribers  2.159430\n",
      "6065      theater  2.113021\n",
      "842           ads  2.110634\n",
      "5318         sigh  2.067755\n",
      "3818          min  1.986006\n",
      "5023       salmon  1.942605\n",
      "981      answerin  1.930714\n",
      "4757    reference  1.898888\n",
      "\n",
      "Top BoW terms indicating HAM:\n",
      "             term    weight\n",
      "6703     warranty -1.022099\n",
      "5612       sprint -1.037691\n",
      "887         alert -1.039143\n",
      "2648   drugdealer -1.047170\n",
      "3310           if -1.055717\n",
      "2556       dodgey -1.132231\n",
      "214   09058097218 -1.220716\n",
      "5460      snowman -1.334852\n",
      "2852         fast -1.376189\n",
      "3520         l8tr -2.145310\n"
     ]
    }
   ],
   "source": [
    "import pandas as pd\n",
    "\n",
    "bow_df = pd.DataFrame({\n",
    "    \"term\": bow_feature_names,\n",
    "    \"weight\": bow_weights\n",
    "}).sort_values(by=\"weight\", ascending=False)\n",
    "\n",
    "print(\"Top BoW terms indicating SPAM:\")\n",
    "print(bow_df.head(10))\n",
    "\n",
    "print(\"\\nTop BoW terms indicating HAM:\")\n",
    "print(bow_df.tail(10))\n"
   ]
  },
  {
   "cell_type": "code",
   "execution_count": 16,
   "id": "beea41bd",
   "metadata": {},
   "outputs": [
    {
     "data": {
      "text/plain": [
       "<Figure size 1000x400 with 0 Axes>"
      ]
     },
     "metadata": {},
     "output_type": "display_data"
    },
    {
     "data": {
      "image/png": "[encoded data removed]",
      "text/plain": [
       "<Figure size 640x480 with 1 Axes>"
      ]
     },
     "metadata": {},
     "output_type": "display_data"
    },
    {
     "data": {
      "text/plain": [
       "<Figure size 1000x400 with 0 Axes>"
      ]
     },
     "metadata": {},
     "output_type": "display_data"
    },
    {
     "data": {
      "image/png": "[encoded data removed]",
      "text/plain": [
       "<Figure size 640x480 with 1 Axes>"
      ]
     },
     "metadata": {},
     "output_type": "display_data"
    }
   ],
   "source": [
    "import matplotlib.pyplot as plt\n",
    "\n",
    "# BoW\n",
    "plt.figure(figsize=(10, 4))\n",
    "bow_df.head(10).plot.bar(x=\"term\", y=\"weight\", legend=False, title=\"Top SPAM terms (BoW)\")\n",
    "plt.show()\n",
    "\n",
    "# LDA topics\n",
    "topic_df = pd.DataFrame({\n",
    "    \"topic\": [f\"topic_{i}\" for i in range(len(topic_weights))],\n",
    "    \"weight\": topic_weights\n",
    "}).sort_values(by=\"weight\", ascending=False)\n",
    "\n",
    "plt.figure(figsize=(10, 4))\n",
    "topic_df.head(10).plot.bar(x=\"topic\", y=\"weight\", legend=False, title=\"Top SPAM Topics (LDA)\")\n",
    "plt.show()\n"
   ]
  }
 ],
 "metadata": {
  "kernelspec": {
   "display_name": "Python 3",
   "language": "python",
   "name": "python3"
  },
  "language_info": {
   "codemirror_mode": {
    "name": "ipython",
    "version": 3
   },
   "file_extension": ".py",
   "mimetype": "text/x-python",
   "name": "python",
   "nbconvert_exporter": "python",
   "pygments_lexer": "ipython3",
   "version": "3.9.6"
  }
 },
 "nbformat": 4,
 "nbformat_minor": 5
}
