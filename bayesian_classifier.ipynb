{
 "cells": [
  {
   "cell_type": "code",
   "execution_count": 1,
   "id": "b7bbeaf9",
   "metadata": {},
   "outputs": [],
   "source": [
    "import pandas as pd\n",
    "import numpy as np\n",
    "\n",
    "import torch\n",
    "from sklearn.model_selection import train_test_split\n",
    "\n",
    "import pyro\n",
    "import pyro.distributions as dist\n",
    "import pyro.infer\n",
    "from pyro.infer import MCMC, NUTS"
   ]
  },
  {
   "cell_type": "code",
   "execution_count": 3,
   "id": "0990f0d7",
   "metadata": {},
   "outputs": [
    {
     "data": {
      "text/html": [
       "<div>\n",
       "<style scoped>\n",
       "    .dataframe tbody tr th:only-of-type {\n",
       "        vertical-align: middle;\n",
       "    }\n",
       "\n",
       "    .dataframe tbody tr th {\n",
       "        vertical-align: top;\n",
       "    }\n",
       "\n",
       "    .dataframe thead th {\n",
       "        text-align: right;\n",
       "    }\n",
       "</style>\n",
       "<table border=\"1\" class=\"dataframe\">\n",
       "  <thead>\n",
       "    <tr style=\"text-align: right;\">\n",
       "      <th></th>\n",
       "      <th>topic_0</th>\n",
       "      <th>topic_1</th>\n",
       "      <th>topic_2</th>\n",
       "      <th>topic_3</th>\n",
       "      <th>topic_4</th>\n",
       "      <th>topic_5</th>\n",
       "      <th>topic_6</th>\n",
       "      <th>topic_7</th>\n",
       "      <th>topic_8</th>\n",
       "      <th>topic_9</th>\n",
       "      <th>...</th>\n",
       "      <th>topic_50</th>\n",
       "      <th>topic_51</th>\n",
       "      <th>topic_52</th>\n",
       "      <th>topic_53</th>\n",
       "      <th>topic_54</th>\n",
       "      <th>topic_55</th>\n",
       "      <th>topic_56</th>\n",
       "      <th>topic_57</th>\n",
       "      <th>topic_58</th>\n",
       "      <th>topic_59</th>\n",
       "    </tr>\n",
       "  </thead>\n",
       "  <tbody>\n",
       "    <tr>\n",
       "      <th>0</th>\n",
       "      <td>0.633960</td>\n",
       "      <td>0.000396</td>\n",
       "      <td>0.000135</td>\n",
       "      <td>0.000234</td>\n",
       "      <td>0.000026</td>\n",
       "      <td>0.070817</td>\n",
       "      <td>0.000136</td>\n",
       "      <td>0.000053</td>\n",
       "      <td>0.000028</td>\n",
       "      <td>0.070569</td>\n",
       "      <td>...</td>\n",
       "      <td>0.000137</td>\n",
       "      <td>0.000231</td>\n",
       "      <td>0.000027</td>\n",
       "      <td>0.000078</td>\n",
       "      <td>0.000137</td>\n",
       "      <td>0.000230</td>\n",
       "      <td>0.000027</td>\n",
       "      <td>0.000066</td>\n",
       "      <td>0.000137</td>\n",
       "      <td>0.000230</td>\n",
       "    </tr>\n",
       "    <tr>\n",
       "      <th>1</th>\n",
       "      <td>0.002062</td>\n",
       "      <td>0.000005</td>\n",
       "      <td>0.000002</td>\n",
       "      <td>0.000008</td>\n",
       "      <td>0.000034</td>\n",
       "      <td>0.000018</td>\n",
       "      <td>0.000002</td>\n",
       "      <td>0.000007</td>\n",
       "      <td>0.000034</td>\n",
       "      <td>0.000011</td>\n",
       "      <td>...</td>\n",
       "      <td>0.000002</td>\n",
       "      <td>0.000007</td>\n",
       "      <td>0.000128</td>\n",
       "      <td>0.001774</td>\n",
       "      <td>0.000002</td>\n",
       "      <td>0.000007</td>\n",
       "      <td>0.000141</td>\n",
       "      <td>0.199437</td>\n",
       "      <td>0.000002</td>\n",
       "      <td>0.000007</td>\n",
       "    </tr>\n",
       "    <tr>\n",
       "      <th>2</th>\n",
       "      <td>0.000004</td>\n",
       "      <td>0.000008</td>\n",
       "      <td>0.000002</td>\n",
       "      <td>0.000053</td>\n",
       "      <td>0.000004</td>\n",
       "      <td>0.000019</td>\n",
       "      <td>0.000002</td>\n",
       "      <td>0.000921</td>\n",
       "      <td>0.000004</td>\n",
       "      <td>0.000019</td>\n",
       "      <td>...</td>\n",
       "      <td>0.000002</td>\n",
       "      <td>0.000748</td>\n",
       "      <td>0.000004</td>\n",
       "      <td>0.000019</td>\n",
       "      <td>0.000002</td>\n",
       "      <td>0.000734</td>\n",
       "      <td>0.000004</td>\n",
       "      <td>0.000019</td>\n",
       "      <td>0.000002</td>\n",
       "      <td>0.000776</td>\n",
       "    </tr>\n",
       "    <tr>\n",
       "      <th>3</th>\n",
       "      <td>0.007415</td>\n",
       "      <td>0.000008</td>\n",
       "      <td>0.000003</td>\n",
       "      <td>0.000013</td>\n",
       "      <td>0.000008</td>\n",
       "      <td>0.000130</td>\n",
       "      <td>0.000003</td>\n",
       "      <td>0.000012</td>\n",
       "      <td>0.000012</td>\n",
       "      <td>0.000138</td>\n",
       "      <td>...</td>\n",
       "      <td>0.000003</td>\n",
       "      <td>0.000012</td>\n",
       "      <td>0.000008</td>\n",
       "      <td>0.000192</td>\n",
       "      <td>0.000003</td>\n",
       "      <td>0.000012</td>\n",
       "      <td>0.000008</td>\n",
       "      <td>0.000192</td>\n",
       "      <td>0.000003</td>\n",
       "      <td>0.000012</td>\n",
       "    </tr>\n",
       "    <tr>\n",
       "      <th>4</th>\n",
       "      <td>0.000024</td>\n",
       "      <td>0.007459</td>\n",
       "      <td>0.000013</td>\n",
       "      <td>0.000019</td>\n",
       "      <td>0.003461</td>\n",
       "      <td>0.000223</td>\n",
       "      <td>0.000013</td>\n",
       "      <td>0.000017</td>\n",
       "      <td>0.000089</td>\n",
       "      <td>0.133078</td>\n",
       "      <td>...</td>\n",
       "      <td>0.000013</td>\n",
       "      <td>0.000018</td>\n",
       "      <td>0.000193</td>\n",
       "      <td>0.000223</td>\n",
       "      <td>0.000013</td>\n",
       "      <td>0.000018</td>\n",
       "      <td>0.000194</td>\n",
       "      <td>0.000223</td>\n",
       "      <td>0.000013</td>\n",
       "      <td>0.000018</td>\n",
       "    </tr>\n",
       "  </tbody>\n",
       "</table>\n",
       "<p>5 rows × 60 columns</p>\n",
       "</div>"
      ],
      "text/plain": [
       "    topic_0   topic_1   topic_2   topic_3   topic_4   topic_5   topic_6  \\\n",
       "0  0.633960  0.000396  0.000135  0.000234  0.000026  0.070817  0.000136   \n",
       "1  0.002062  0.000005  0.000002  0.000008  0.000034  0.000018  0.000002   \n",
       "2  0.000004  0.000008  0.000002  0.000053  0.000004  0.000019  0.000002   \n",
       "3  0.007415  0.000008  0.000003  0.000013  0.000008  0.000130  0.000003   \n",
       "4  0.000024  0.007459  0.000013  0.000019  0.003461  0.000223  0.000013   \n",
       "\n",
       "    topic_7   topic_8   topic_9  ...  topic_50  topic_51  topic_52  topic_53  \\\n",
       "0  0.000053  0.000028  0.070569  ...  0.000137  0.000231  0.000027  0.000078   \n",
       "1  0.000007  0.000034  0.000011  ...  0.000002  0.000007  0.000128  0.001774   \n",
       "2  0.000921  0.000004  0.000019  ...  0.000002  0.000748  0.000004  0.000019   \n",
       "3  0.000012  0.000012  0.000138  ...  0.000003  0.000012  0.000008  0.000192   \n",
       "4  0.000017  0.000089  0.133078  ...  0.000013  0.000018  0.000193  0.000223   \n",
       "\n",
       "   topic_54  topic_55  topic_56  topic_57  topic_58  topic_59  \n",
       "0  0.000137  0.000230  0.000027  0.000066  0.000137  0.000230  \n",
       "1  0.000002  0.000007  0.000141  0.199437  0.000002  0.000007  \n",
       "2  0.000002  0.000734  0.000004  0.000019  0.000002  0.000776  \n",
       "3  0.000003  0.000012  0.000008  0.000192  0.000003  0.000012  \n",
       "4  0.000013  0.000018  0.000194  0.000223  0.000013  0.000018  \n",
       "\n",
       "[5 rows x 60 columns]"
      ]
     },
     "execution_count": 3,
     "metadata": {},
     "output_type": "execute_result"
    }
   ],
   "source": [
    "df_k55 = pd.read_csv(\"doc_topics_K55.csv\")\n",
    "df_k60 = pd.read_csv(\"doc_topics_K60.csv\")\n",
    "#df_k55.head()\n",
    "df_k60.head()"
   ]
  },
  {
   "cell_type": "code",
   "execution_count": 4,
   "id": "db92fb4d",
   "metadata": {},
   "outputs": [
    {
     "data": {
      "text/html": [
       "<div>\n",
       "<style scoped>\n",
       "    .dataframe tbody tr th:only-of-type {\n",
       "        vertical-align: middle;\n",
       "    }\n",
       "\n",
       "    .dataframe tbody tr th {\n",
       "        vertical-align: top;\n",
       "    }\n",
       "\n",
       "    .dataframe thead th {\n",
       "        text-align: right;\n",
       "    }\n",
       "</style>\n",
       "<table border=\"1\" class=\"dataframe\">\n",
       "  <thead>\n",
       "    <tr style=\"text-align: right;\">\n",
       "      <th></th>\n",
       "      <th>label</th>\n",
       "      <th>message</th>\n",
       "    </tr>\n",
       "  </thead>\n",
       "  <tbody>\n",
       "    <tr>\n",
       "      <th>0</th>\n",
       "      <td>0</td>\n",
       "      <td>Go until jurong point, crazy.. Available only ...</td>\n",
       "    </tr>\n",
       "    <tr>\n",
       "      <th>1</th>\n",
       "      <td>0</td>\n",
       "      <td>Ok lar... Joking wif u oni...</td>\n",
       "    </tr>\n",
       "    <tr>\n",
       "      <th>2</th>\n",
       "      <td>1</td>\n",
       "      <td>Free entry in 2 a wkly comp to win FA Cup fina...</td>\n",
       "    </tr>\n",
       "    <tr>\n",
       "      <th>3</th>\n",
       "      <td>0</td>\n",
       "      <td>U dun say so early hor... U c already then say...</td>\n",
       "    </tr>\n",
       "    <tr>\n",
       "      <th>4</th>\n",
       "      <td>0</td>\n",
       "      <td>Nah I don't think he goes to usf, he lives aro...</td>\n",
       "    </tr>\n",
       "  </tbody>\n",
       "</table>\n",
       "</div>"
      ],
      "text/plain": [
       "   label                                            message\n",
       "0      0  Go until jurong point, crazy.. Available only ...\n",
       "1      0                      Ok lar... Joking wif u oni...\n",
       "2      1  Free entry in 2 a wkly comp to win FA Cup fina...\n",
       "3      0  U dun say so early hor... U c already then say...\n",
       "4      0  Nah I don't think he goes to usf, he lives aro..."
      ]
     },
     "execution_count": 4,
     "metadata": {},
     "output_type": "execute_result"
    }
   ],
   "source": [
    "df_sms = pd.read_csv(\n",
    "    \"SMSSpamCollection\", sep=\"\\t\", header=None, names=[\"label\", \"message\"]\n",
    ")\n",
    "# df_sms.head()\n",
    "df_sms[\"label\"] = df_sms[\"label\"].map({\"ham\": 0, \"spam\": 1})\n",
    "df_sms.head()"
   ]
  },
  {
   "cell_type": "code",
   "execution_count": 5,
   "id": "23f77220",
   "metadata": {},
   "outputs": [
    {
     "data": {
      "text/html": [
       "<div>\n",
       "<style scoped>\n",
       "    .dataframe tbody tr th:only-of-type {\n",
       "        vertical-align: middle;\n",
       "    }\n",
       "\n",
       "    .dataframe tbody tr th {\n",
       "        vertical-align: top;\n",
       "    }\n",
       "\n",
       "    .dataframe thead th {\n",
       "        text-align: right;\n",
       "    }\n",
       "</style>\n",
       "<table border=\"1\" class=\"dataframe\">\n",
       "  <thead>\n",
       "    <tr style=\"text-align: right;\">\n",
       "      <th></th>\n",
       "      <th>topic_0</th>\n",
       "      <th>topic_1</th>\n",
       "      <th>topic_2</th>\n",
       "      <th>topic_3</th>\n",
       "      <th>topic_4</th>\n",
       "      <th>topic_5</th>\n",
       "      <th>topic_6</th>\n",
       "      <th>topic_7</th>\n",
       "      <th>topic_8</th>\n",
       "      <th>topic_9</th>\n",
       "      <th>...</th>\n",
       "      <th>topic_51</th>\n",
       "      <th>topic_52</th>\n",
       "      <th>topic_53</th>\n",
       "      <th>topic_54</th>\n",
       "      <th>topic_55</th>\n",
       "      <th>topic_56</th>\n",
       "      <th>topic_57</th>\n",
       "      <th>topic_58</th>\n",
       "      <th>topic_59</th>\n",
       "      <th>label</th>\n",
       "    </tr>\n",
       "  </thead>\n",
       "  <tbody>\n",
       "    <tr>\n",
       "      <th>0</th>\n",
       "      <td>0.633960</td>\n",
       "      <td>0.000396</td>\n",
       "      <td>0.000135</td>\n",
       "      <td>0.000234</td>\n",
       "      <td>0.000026</td>\n",
       "      <td>0.070817</td>\n",
       "      <td>0.000136</td>\n",
       "      <td>0.000053</td>\n",
       "      <td>0.000028</td>\n",
       "      <td>0.070569</td>\n",
       "      <td>...</td>\n",
       "      <td>0.000231</td>\n",
       "      <td>0.000027</td>\n",
       "      <td>0.000078</td>\n",
       "      <td>0.000137</td>\n",
       "      <td>0.000230</td>\n",
       "      <td>0.000027</td>\n",
       "      <td>0.000066</td>\n",
       "      <td>0.000137</td>\n",
       "      <td>0.000230</td>\n",
       "      <td>0</td>\n",
       "    </tr>\n",
       "    <tr>\n",
       "      <th>1</th>\n",
       "      <td>0.002062</td>\n",
       "      <td>0.000005</td>\n",
       "      <td>0.000002</td>\n",
       "      <td>0.000008</td>\n",
       "      <td>0.000034</td>\n",
       "      <td>0.000018</td>\n",
       "      <td>0.000002</td>\n",
       "      <td>0.000007</td>\n",
       "      <td>0.000034</td>\n",
       "      <td>0.000011</td>\n",
       "      <td>...</td>\n",
       "      <td>0.000007</td>\n",
       "      <td>0.000128</td>\n",
       "      <td>0.001774</td>\n",
       "      <td>0.000002</td>\n",
       "      <td>0.000007</td>\n",
       "      <td>0.000141</td>\n",
       "      <td>0.199437</td>\n",
       "      <td>0.000002</td>\n",
       "      <td>0.000007</td>\n",
       "      <td>0</td>\n",
       "    </tr>\n",
       "    <tr>\n",
       "      <th>2</th>\n",
       "      <td>0.000004</td>\n",
       "      <td>0.000008</td>\n",
       "      <td>0.000002</td>\n",
       "      <td>0.000053</td>\n",
       "      <td>0.000004</td>\n",
       "      <td>0.000019</td>\n",
       "      <td>0.000002</td>\n",
       "      <td>0.000921</td>\n",
       "      <td>0.000004</td>\n",
       "      <td>0.000019</td>\n",
       "      <td>...</td>\n",
       "      <td>0.000748</td>\n",
       "      <td>0.000004</td>\n",
       "      <td>0.000019</td>\n",
       "      <td>0.000002</td>\n",
       "      <td>0.000734</td>\n",
       "      <td>0.000004</td>\n",
       "      <td>0.000019</td>\n",
       "      <td>0.000002</td>\n",
       "      <td>0.000776</td>\n",
       "      <td>1</td>\n",
       "    </tr>\n",
       "    <tr>\n",
       "      <th>3</th>\n",
       "      <td>0.007415</td>\n",
       "      <td>0.000008</td>\n",
       "      <td>0.000003</td>\n",
       "      <td>0.000013</td>\n",
       "      <td>0.000008</td>\n",
       "      <td>0.000130</td>\n",
       "      <td>0.000003</td>\n",
       "      <td>0.000012</td>\n",
       "      <td>0.000012</td>\n",
       "      <td>0.000138</td>\n",
       "      <td>...</td>\n",
       "      <td>0.000012</td>\n",
       "      <td>0.000008</td>\n",
       "      <td>0.000192</td>\n",
       "      <td>0.000003</td>\n",
       "      <td>0.000012</td>\n",
       "      <td>0.000008</td>\n",
       "      <td>0.000192</td>\n",
       "      <td>0.000003</td>\n",
       "      <td>0.000012</td>\n",
       "      <td>0</td>\n",
       "    </tr>\n",
       "    <tr>\n",
       "      <th>4</th>\n",
       "      <td>0.000024</td>\n",
       "      <td>0.007459</td>\n",
       "      <td>0.000013</td>\n",
       "      <td>0.000019</td>\n",
       "      <td>0.003461</td>\n",
       "      <td>0.000223</td>\n",
       "      <td>0.000013</td>\n",
       "      <td>0.000017</td>\n",
       "      <td>0.000089</td>\n",
       "      <td>0.133078</td>\n",
       "      <td>...</td>\n",
       "      <td>0.000018</td>\n",
       "      <td>0.000193</td>\n",
       "      <td>0.000223</td>\n",
       "      <td>0.000013</td>\n",
       "      <td>0.000018</td>\n",
       "      <td>0.000194</td>\n",
       "      <td>0.000223</td>\n",
       "      <td>0.000013</td>\n",
       "      <td>0.000018</td>\n",
       "      <td>0</td>\n",
       "    </tr>\n",
       "  </tbody>\n",
       "</table>\n",
       "<p>5 rows × 61 columns</p>\n",
       "</div>"
      ],
      "text/plain": [
       "    topic_0   topic_1   topic_2   topic_3   topic_4   topic_5   topic_6  \\\n",
       "0  0.633960  0.000396  0.000135  0.000234  0.000026  0.070817  0.000136   \n",
       "1  0.002062  0.000005  0.000002  0.000008  0.000034  0.000018  0.000002   \n",
       "2  0.000004  0.000008  0.000002  0.000053  0.000004  0.000019  0.000002   \n",
       "3  0.007415  0.000008  0.000003  0.000013  0.000008  0.000130  0.000003   \n",
       "4  0.000024  0.007459  0.000013  0.000019  0.003461  0.000223  0.000013   \n",
       "\n",
       "    topic_7   topic_8   topic_9  ...  topic_51  topic_52  topic_53  topic_54  \\\n",
       "0  0.000053  0.000028  0.070569  ...  0.000231  0.000027  0.000078  0.000137   \n",
       "1  0.000007  0.000034  0.000011  ...  0.000007  0.000128  0.001774  0.000002   \n",
       "2  0.000921  0.000004  0.000019  ...  0.000748  0.000004  0.000019  0.000002   \n",
       "3  0.000012  0.000012  0.000138  ...  0.000012  0.000008  0.000192  0.000003   \n",
       "4  0.000017  0.000089  0.133078  ...  0.000018  0.000193  0.000223  0.000013   \n",
       "\n",
       "   topic_55  topic_56  topic_57  topic_58  topic_59  label  \n",
       "0  0.000230  0.000027  0.000066  0.000137  0.000230      0  \n",
       "1  0.000007  0.000141  0.199437  0.000002  0.000007      0  \n",
       "2  0.000734  0.000004  0.000019  0.000002  0.000776      1  \n",
       "3  0.000012  0.000008  0.000192  0.000003  0.000012      0  \n",
       "4  0.000018  0.000194  0.000223  0.000013  0.000018      0  \n",
       "\n",
       "[5 rows x 61 columns]"
      ]
     },
     "execution_count": 5,
     "metadata": {},
     "output_type": "execute_result"
    }
   ],
   "source": [
    "df_k60[\"label\"] = df_sms[\"label\"]\n",
    "df_k60.head()"
   ]
  },
  {
   "cell_type": "code",
   "execution_count": 6,
   "id": "d9b2d526",
   "metadata": {},
   "outputs": [],
   "source": [
    "# train and test split\n",
    "X = df_k60.drop(columns=[\"label\"]).values.astype(\"float32\")\n",
    "y = df_k60[\"label\"].values.astype(\"float32\")\n",
    "\n",
    "X_train, X_test, y_train, y_test = train_test_split(\n",
    "    X, y, test_size=0.2, stratify=y, random_state=42\n",
    ")\n",
    "\n",
    "# convert to PyTorch tensors\n",
    "X_train = torch.tensor(X_train)\n",
    "X_test = torch.tensor(X_test)\n",
    "y_train = torch.tensor(y_train)\n",
    "y_test = torch.tensor(y_test)"
   ]
  },
  {
   "cell_type": "code",
   "execution_count": 7,
   "id": "8a7ca956",
   "metadata": {},
   "outputs": [],
   "source": [
    "def model(X, y=None):\n",
    "    num_features = X.shape[1]\n",
    "\n",
    "    # Priors for weights and bias\n",
    "    beta = pyro.sample(\n",
    "        \"beta\", dist.Normal(torch.zeros(num_features), torch.ones(num_features))\n",
    "    )\n",
    "    bias = pyro.sample(\"bias\", dist.Normal(0.0, 1.0))\n",
    "\n",
    "    with pyro.plate(\"data\", X.shape[0]):\n",
    "        logits = (X @ beta) + bias\n",
    "        pyro.sample(\"obs\", dist.Bernoulli(logits=logits), obs=y)"
   ]
  },
  {
   "cell_type": "code",
   "execution_count": 8,
   "id": "add64951",
   "metadata": {},
   "outputs": [
    {
     "name": "stderr",
     "output_type": "stream",
     "text": [
      "Sample: 100%|██████████| 2200/2200 [01:03, 34.74it/s, step size=3.16e-01, acc. prob=0.908]\n"
     ]
    }
   ],
   "source": [
    "# MCMC inference\n",
    "nuts_kernel = NUTS(model)\n",
    "mcmc = MCMC(nuts_kernel, num_samples=2000, warmup_steps=200, num_chains=1)\n",
    "mcmc.run(X_train, y_train)"
   ]
  },
  {
   "cell_type": "code",
   "execution_count": 9,
   "id": "8c2157fc",
   "metadata": {},
   "outputs": [
    {
     "name": "stdout",
     "output_type": "stream",
     "text": [
      "Test Accuracy: 0.9408071637153625\n"
     ]
    }
   ],
   "source": [
    "# prediction using posterior mean\n",
    "samples = mcmc.get_samples()\n",
    "beta_hat = samples[\"beta\"].mean(0)\n",
    "bias_hat = samples[\"bias\"].mean(0)\n",
    "\n",
    "# Predict on test set\n",
    "logits = (X_test @ beta_hat) + bias_hat\n",
    "y_pred = torch.sigmoid(logits) > 0.5\n",
    "\n",
    "# Accuracy\n",
    "accuracy = (y_pred.int() == y_test).float().mean()\n",
    "print(\"Test Accuracy:\", accuracy.item())"
   ]
  },
  {
   "cell_type": "code",
   "execution_count": 10,
   "id": "3acc9e69",
   "metadata": {},
   "outputs": [
    {
     "name": "stdout",
     "output_type": "stream",
     "text": [
      "{'beta': OrderedDict([('n_eff', tensor([3075.2371, 1325.8624, 3655.6951, 1747.5483, 3888.1826, 2689.7114,\n",
      "        3824.9741, 1679.1560, 3331.4719, 2735.7856, 2921.6860, 1610.3086,\n",
      "        4212.9565, 3805.2366, 4285.4980, 2388.6538, 4156.7949, 4459.9102,\n",
      "        5198.9067, 3100.5327, 3011.3706, 3172.2974, 3883.0115, 2295.1069,\n",
      "        2391.9402, 3432.7593, 3111.9619, 3573.9761, 3985.4827, 1624.4670,\n",
      "        3665.4341, 2404.6880, 5016.2729, 2803.6445, 4037.6538, 2312.8191,\n",
      "        3141.3853, 4726.6538, 2619.1968, 3420.9370, 2830.8557, 1734.3783,\n",
      "        4118.7534, 4006.8735, 2425.0171, 3488.6621, 5409.0005, 3990.6367,\n",
      "        4630.6367, 4185.2607, 4421.6680, 2137.0312, 4987.2241, 4203.5361,\n",
      "        4719.9082, 3442.2939, 4825.3447, 3988.9939, 3759.2043, 3131.7139])), ('r_hat', tensor([0.9995, 0.9996, 0.9998, 0.9995, 0.9996, 0.9996, 1.0000, 0.9996, 1.0003,\n",
      "        0.9995, 0.9995, 0.9997, 0.9995, 0.9995, 0.9995, 0.9995, 0.9995, 1.0004,\n",
      "        0.9995, 0.9995, 0.9999, 1.0001, 0.9999, 0.9996, 0.9999, 0.9998, 0.9995,\n",
      "        0.9996, 0.9997, 1.0005, 0.9995, 0.9997, 0.9995, 1.0003, 0.9996, 0.9995,\n",
      "        0.9997, 0.9996, 1.0004, 0.9995, 1.0008, 1.0004, 0.9996, 0.9997, 0.9995,\n",
      "        0.9998, 1.0005, 1.0005, 1.0004, 0.9995, 0.9996, 1.0003, 0.9997, 0.9998,\n",
      "        0.9995, 1.0009, 0.9995, 0.9996, 1.0002, 0.9996]))]), 'bias': OrderedDict([('n_eff', tensor(491.9950)), ('r_hat', tensor(0.9995))]), 'divergences': {'chain 0': []}, 'acceptance rate': {'chain 0': 1.0}}\n"
     ]
    }
   ],
   "source": [
    "print(mcmc.diagnostics())"
   ]
  },
  {
   "cell_type": "markdown",
   "id": "a7aee666",
   "metadata": {},
   "source": [
    "# try with the bow matrix "
   ]
  },
  {
   "cell_type": "code",
   "execution_count": 20,
   "id": "f862cdad",
   "metadata": {},
   "outputs": [],
   "source": [
    "df_k60 = pd.read_csv(\"doc_topics_K55.csv\")\n",
    "\n",
    "df_sms = pd.read_csv(\n",
    "    \"SMSSpamCollection\", sep=\"\\t\", header=None, names=[\"label\", \"message\"]\n",
    ")\n",
    "# df_sms.head()\n",
    "df_sms[\"label\"] = df_sms[\"label\"].map({\"ham\": 0, \"spam\": 1})\n",
    "\n",
    "\n",
    "df_k60[\"label\"] = df_sms[\"label\"]"
   ]
  },
  {
   "cell_type": "code",
   "execution_count": 21,
   "id": "f74c1c12",
   "metadata": {},
   "outputs": [
    {
     "name": "stdout",
     "output_type": "stream",
     "text": [
      "[[0. 0. 0. ... 0. 0. 0.]\n",
      " [0. 0. 0. ... 0. 0. 0.]\n",
      " [0. 0. 0. ... 0. 0. 0.]\n",
      " ...\n",
      " [0. 0. 0. ... 0. 0. 0.]\n",
      " [0. 0. 0. ... 0. 0. 0.]\n",
      " [0. 0. 0. ... 0. 0. 0.]]\n"
     ]
    }
   ],
   "source": [
    "bow_array = np.load(\"BoW_X_Array.npz\")[\"arr_0\"]\n",
    "print(bow_array)"
   ]
  },
  {
   "cell_type": "code",
   "execution_count": 22,
   "id": "b31d933c",
   "metadata": {},
   "outputs": [
    {
     "name": "stdout",
     "output_type": "stream",
     "text": [
      "Topics shape: (5572, 55)\n",
      "BoW shape: (5572, 7099)\n",
      "total shape:  (5572, 7154)\n",
      "labels shape (5572,)\n"
     ]
    }
   ],
   "source": [
    "# Drop the label column from df_k60 to get the topic features\n",
    "X_topics = df_k60.drop(\"label\", axis=1).values.astype(\"float32\")\n",
    "\n",
    "# Check shapes to be sure\n",
    "print(\"Topics shape:\", X_topics.shape)\n",
    "print(\"BoW shape:\", bow_array.shape)\n",
    "\n",
    "# Horizontally concatenate the two matrices\n",
    "X = np.hstack([X_topics, bow_array])\n",
    "print(\"total shape: \", X.shape)\n",
    "\n",
    "# Extract the labels\n",
    "y = df_k60[\"label\"].values.astype(\"float32\")\n",
    "print(\"labels shape\", y.shape)"
   ]
  },
  {
   "cell_type": "code",
   "execution_count": 23,
   "id": "850b84ca",
   "metadata": {},
   "outputs": [],
   "source": [
    "X_train, X_test, y_train, y_test = train_test_split(\n",
    "    X, y, test_size=0.2, stratify=y, random_state=42\n",
    ")\n",
    "\n",
    "\n",
    "# convert to PyTorch tensors\n",
    "X_train = torch.tensor(X_train)\n",
    "X_test = torch.tensor(X_test)\n",
    "y_train = torch.tensor(y_train)\n",
    "y_test = torch.tensor(y_test)"
   ]
  },
  {
   "cell_type": "code",
   "execution_count": 24,
   "id": "7d704d00",
   "metadata": {},
   "outputs": [],
   "source": [
    "def model(X, y=None):\n",
    "    num_features = X.shape[1]\n",
    "\n",
    "    # Priors for weights and bias\n",
    "    beta = pyro.sample(\n",
    "        \"beta\", dist.Normal(torch.zeros(num_features), torch.ones(num_features))\n",
    "    )\n",
    "    bias = pyro.sample(\"bias\", dist.Normal(0.0, 1.0))\n",
    "\n",
    "    with pyro.plate(\"data\", X.shape[0]):\n",
    "        logits = (X @ beta) + bias\n",
    "        pyro.sample(\"obs\", dist.Bernoulli(logits=logits), obs=y)"
   ]
  },
  {
   "cell_type": "code",
   "execution_count": 25,
   "id": "534477e6",
   "metadata": {},
   "outputs": [
    {
     "name": "stderr",
     "output_type": "stream",
     "text": [
      "Sample: 100%|██████████| 1100/1100 [05:15,  3.49it/s, step size=1.49e-01, acc. prob=0.851]\n"
     ]
    }
   ],
   "source": [
    "# MCMC inference\n",
    "nuts_kernel = NUTS(model, target_accept_prob= 0.75)\n",
    "mcmc = MCMC(nuts_kernel, num_samples=1000, warmup_steps=100, num_chains=1)\n",
    "mcmc.run(X_train, y_train)"
   ]
  },
  {
   "cell_type": "code",
   "execution_count": 26,
   "id": "bd3fa1dd",
   "metadata": {},
   "outputs": [
    {
     "name": "stdout",
     "output_type": "stream",
     "text": [
      "Test Accuracy: 0.9856502413749695\n"
     ]
    }
   ],
   "source": [
    "# prediction using posterior mean\n",
    "samples = mcmc.get_samples()\n",
    "beta_hat = samples[\"beta\"].mean(0)\n",
    "bias_hat = samples[\"bias\"].mean(0)\n",
    "\n",
    "# Predict on test set\n",
    "logits = (X_test @ beta_hat) + bias_hat\n",
    "y_pred = torch.sigmoid(logits) > 0.5\n",
    "\n",
    "# Accuracy\n",
    "accuracy = (y_pred.int() == y_test).float().mean()\n",
    "print(\"Test Accuracy:\", accuracy.item())"
   ]
  },
  {
   "cell_type": "code",
   "execution_count": 27,
   "id": "f35d4f5c",
   "metadata": {},
   "outputs": [
    {
     "name": "stdout",
     "output_type": "stream",
     "text": [
      "{'beta': OrderedDict([('n_eff', tensor([1401.9382, 1129.0219, 1399.7416,  ..., 1496.3710, 1998.9513,\n",
      "        1385.7122])), ('r_hat', tensor([0.9993, 1.0008, 0.9995,  ..., 0.9992, 0.9990, 0.9993]))]), 'bias': OrderedDict([('n_eff', tensor(957.4619)), ('r_hat', tensor(0.9993))]), 'divergences': {'chain 0': []}, 'acceptance rate': {'chain 0': 1.0}}\n"
     ]
    }
   ],
   "source": [
    "print(mcmc.diagnostics())"
   ]
  },
  {
   "cell_type": "markdown",
   "id": "e99e82dc",
   "metadata": {},
   "source": [
    "# explanability "
   ]
  },
  {
   "cell_type": "code",
   "execution_count": 28,
   "id": "361d0701",
   "metadata": {},
   "outputs": [],
   "source": [
    "# Suppose:\n",
    "# - X_topics.shape[1] = 55\n",
    "# - bow_array.shape[1] = 500 (or whatever number of BoW features)\n",
    "\n",
    "topic_weights = beta_hat[:55].numpy()\n",
    "bow_weights = beta_hat[55:].numpy()"
   ]
  },
  {
   "cell_type": "code",
   "execution_count": 29,
   "id": "b81cfba4",
   "metadata": {},
   "outputs": [],
   "source": [
    "from sklearn.feature_extraction.text import CountVectorizer\n",
    "\n",
    "from sklearn.feature_extraction.text import CountVectorizer\n",
    "\n",
    "vectorizer = CountVectorizer(max_features=bow_array.shape[1])\n",
    "vectorizer.fit(\n",
    "    df_sms[\"message\"]\n",
    ")  \n",
    "\n",
    "bow_feature_names = vectorizer.get_feature_names_out()"
   ]
  },
  {
   "cell_type": "code",
   "execution_count": 30,
   "id": "ff4abbc3",
   "metadata": {},
   "outputs": [
    {
     "name": "stdout",
     "output_type": "stream",
     "text": [
      "Top BoW terms indicating SPAM:\n",
      "             term    weight\n",
      "6390      typical  3.115357\n",
      "1070          arm  2.364776\n",
      "842           ads  2.125983\n",
      "5781  subscribers  2.118084\n",
      "6065      theater  2.116888\n",
      "5318         sigh  2.098803\n",
      "981      answerin  1.986021\n",
      "3818          min  1.980552\n",
      "5023       salmon  1.953784\n",
      "4757    reference  1.899218\n",
      "\n",
      "Top BoW terms indicating HAM:\n",
      "             term    weight\n",
      "6087   thesmszone -1.007247\n",
      "887         alert -1.012085\n",
      "2648   drugdealer -1.036073\n",
      "5612       sprint -1.039572\n",
      "3310           if -1.074306\n",
      "2556       dodgey -1.170771\n",
      "5460      snowman -1.291595\n",
      "214   09058097218 -1.293577\n",
      "2852         fast -1.399167\n",
      "3520         l8tr -2.123308\n"
     ]
    }
   ],
   "source": [
    "import pandas as pd\n",
    "\n",
    "bow_df = pd.DataFrame({\"term\": bow_feature_names, \"weight\": bow_weights}).sort_values(\n",
    "    by=\"weight\", ascending=False\n",
    ")\n",
    "\n",
    "print(\"Top BoW terms indicating SPAM:\")\n",
    "print(bow_df.head(10))\n",
    "\n",
    "print(\"\\nTop BoW terms indicating HAM:\")\n",
    "print(bow_df.tail(10))"
   ]
  },
  {
   "cell_type": "code",
   "execution_count": 31,
   "id": "beea41bd",
   "metadata": {},
   "outputs": [
    {
     "data": {
      "text/plain": [
       "<Figure size 1000x400 with 0 Axes>"
      ]
     },
     "metadata": {},
     "output_type": "display_data"
    },
    {
     "data": {
      "image/png": "[encoded data removed]",
      "text/plain": [
       "<Figure size 640x480 with 1 Axes>"
      ]
     },
     "metadata": {},
     "output_type": "display_data"
    },
    {
     "data": {
      "text/plain": [
       "<Figure size 1000x400 with 0 Axes>"
      ]
     },
     "metadata": {},
     "output_type": "display_data"
    },
    {
     "data": {
      "image/png": "[encoded data removed]",
      "text/plain": [
       "<Figure size 640x480 with 1 Axes>"
      ]
     },
     "metadata": {},
     "output_type": "display_data"
    }
   ],
   "source": [
    "import matplotlib.pyplot as plt\n",
    "\n",
    "# BoW\n",
    "plt.figure(figsize=(10, 4))\n",
    "bow_df.head(10).plot.bar(\n",
    "    x=\"term\", y=\"weight\", legend=False, title=\"Top SPAM terms (BoW)\"\n",
    ")\n",
    "plt.show()\n",
    "\n",
    "# LDA topics\n",
    "topic_df = pd.DataFrame(\n",
    "    {\n",
    "        \"topic\": [f\"topic_{i}\" for i in range(len(topic_weights))],\n",
    "        \"weight\": topic_weights,\n",
    "    }\n",
    ").sort_values(by=\"weight\", ascending=False)\n",
    "\n",
    "plt.figure(figsize=(10, 4))\n",
    "topic_df.head(10).plot.bar(\n",
    "    x=\"topic\", y=\"weight\", legend=False, title=\"Top SPAM Topics (LDA)\"\n",
    ")\n",
    "plt.show()"
   ]
  }
 ],
 "metadata": {
  "kernelspec": {
   "display_name": "Python 3",
   "language": "python",
   "name": "python3"
  },
  "language_info": {
   "codemirror_mode": {
    "name": "ipython",
    "version": 3
   },
   "file_extension": ".py",
   "mimetype": "text/x-python",
   "name": "python",
   "nbconvert_exporter": "python",
   "pygments_lexer": "ipython3",
   "version": "3.9.6"
  }
 },
 "nbformat": 4,
 "nbformat_minor": 5
}
